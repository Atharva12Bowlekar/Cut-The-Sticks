{
 "cells": [
  {
   "cell_type": "code",
   "execution_count": 5,
   "metadata": {},
   "outputs": [],
   "source": [
    "def cutTheSticks(arr):\n",
    "    d=[]\n",
    "    while(arr!=[]):\n",
    "        c=0\n",
    "        x=min(arr)\n",
    "        #print(x,len(arr))\n",
    "        for i in range(len(arr)):\n",
    "            arr[i]=arr[i]-x\n",
    "            #print('arr',arr)\n",
    "            c=c+1\n",
    "        d.append(c)\n",
    "        #print(arr)\n",
    "        k=[]\n",
    "        for i in arr:\n",
    "            #print(i)\n",
    "            if(i!=0):\n",
    "                k.append(i)\n",
    "        arr=k       \n",
    "    return d"
   ]
  },
  {
   "cell_type": "code",
   "execution_count": 6,
   "metadata": {},
   "outputs": [
    {
     "data": {
      "text/plain": [
       "[6, 4, 2, 1]"
      ]
     },
     "execution_count": 6,
     "metadata": {},
     "output_type": "execute_result"
    }
   ],
   "source": [
    "cutTheSticks([5,4,4,2,2,8])"
   ]
  },
  {
   "cell_type": "code",
   "execution_count": null,
   "metadata": {},
   "outputs": [],
   "source": []
  }
 ],
 "metadata": {
  "kernelspec": {
   "display_name": "Python 3",
   "language": "python",
   "name": "python3"
  },
  "language_info": {
   "codemirror_mode": {
    "name": "ipython",
    "version": 3
   },
   "file_extension": ".py",
   "mimetype": "text/x-python",
   "name": "python",
   "nbconvert_exporter": "python",
   "pygments_lexer": "ipython3",
   "version": "3.8.3"
  }
 },
 "nbformat": 4,
 "nbformat_minor": 4
}
